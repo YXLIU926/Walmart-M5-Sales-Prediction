{
  "nbformat": 4,
  "nbformat_minor": 0,
  "metadata": {
    "kernelspec": {
      "language": "python",
      "display_name": "Python 3",
      "name": "python3"
    },
    "language_info": {
      "pygments_lexer": "ipython3",
      "nbconvert_exporter": "python",
      "version": "3.6.4",
      "file_extension": ".py",
      "codemirror_mode": {
        "name": "ipython",
        "version": 3
      },
      "name": "python",
      "mimetype": "text/x-python"
    },
    "colab": {
      "name": "M5 Forecasting - Walmart.ipynb",
      "private_outputs": true,
      "provenance": [],
      "collapsed_sections": [],
      "machine_shape": "hm",
      "include_colab_link": true
    },
    "accelerator": "GPU"
  },
  "cells": [
    {
      "cell_type": "markdown",
      "metadata": {
        "id": "view-in-github",
        "colab_type": "text"
      },
      "source": [
        "<a href=\"https://colab.research.google.com/github/YXLIU926/Walmart-M5-Sales-Prediction/blob/main/M5_Forecasting_Walmart.ipynb\" target=\"_parent\"><img src=\"https://colab.research.google.com/assets/colab-badge.svg\" alt=\"Open In Colab\"/></a>"
      ]
    },
    {
      "cell_type": "markdown",
      "metadata": {
        "id": "Oma8x9tppWCs"
      },
      "source": [
        "# Objective\n",
        "\n",
        "* Make a baseline model that predict the validation (28 days). \n",
        "* This competition has 2 stages, so the main objective is to make a model that can predict the demand for the next 28 days"
      ]
    },
    {
      "cell_type": "code",
      "metadata": {
        "trusted": true,
        "id": "oJG2L0RhpWCy"
      },
      "source": [
        "!pip install 'fsspec>=0.3.3'\n",
        "!pip install 'dask_xgboost'"
      ],
      "execution_count": null,
      "outputs": []
    },
    {
      "cell_type": "code",
      "metadata": {
        "_uuid": "8f2839f25d086af736a60e9eeb907d3b93b6e0e5",
        "_cell_guid": "b1076dfc-b9ad-4769-8c92-a6c4dae69d19",
        "execution": {
          "iopub.status.busy": "2021-11-20T04:35:56.834014Z",
          "iopub.status.idle": "2021-11-20T04:35:56.834369Z",
          "shell.execute_reply.started": "2021-11-20T04:35:56.834206Z",
          "shell.execute_reply": "2021-11-20T04:35:56.834223Z"
        },
        "trusted": true,
        "id": "Q5R46x16pWCw"
      },
      "source": [
        "import warnings\n",
        "warnings.filterwarnings('ignore')\n",
        "import pandas as pd\n",
        "import numpy as np\n",
        "import dask.dataframe as dd\n",
        "pd.set_option('display.max_columns', 500)\n",
        "pd.set_option('display.max_rows', 500)\n",
        "import matplotlib.pyplot as plt\n",
        "import seaborn as sns\n",
        "import lightgbm as lgb\n",
        "import dask_xgboost as xgb\n",
        "import dask.dataframe as dd\n",
        "from sklearn import preprocessing, metrics\n",
        "import gc\n",
        "import os\n",
        "for dirname, _, filenames in os.walk('/kaggle/input'):\n",
        "    for filename in filenames:\n",
        "        print(os.path.join(dirname, filename))"
      ],
      "execution_count": null,
      "outputs": []
    },
    {
      "cell_type": "code",
      "metadata": {
        "id": "jcpr-PyHscLx"
      },
      "source": [
        "from google.colab import drive\n",
        "drive.mount('/content/drive')"
      ],
      "execution_count": null,
      "outputs": []
    },
    {
      "cell_type": "code",
      "metadata": {
        "id": "6SH-Jb9Yc_Qb"
      },
      "source": [
        "# function to read the data and merge it (ignoring some columns, this is a very fst model)\n",
        "def read_data():\n",
        "    print('Reading files...')\n",
        "    calendar = pd.read_csv('/content/drive/Shareddrives/HW2 Shared Drive/calendar.csv')\n",
        "    calendar1 = pd.read_csv('/content/drive/Shareddrives/HW2 Shared Drive/calendar.csv')\n",
        "    calendar2 = pd.read_csv('/content/drive/Shareddrives/HW2 Shared Drive/calendar.csv')\n",
        "    calendar3 = pd.read_csv('/content/drive/Shareddrives/HW2 Shared Drive/calendar.csv')\n",
        "    #calendar = reduce_mem_usage(calendar)\n",
        "    print('Calendar has {} rows and {} columns'.format(calendar.shape[0], calendar.shape[1]))\n",
        "    sell_prices = pd.read_csv('/content/drive/Shareddrives/HW2 Shared Drive/sell_prices.csv')\n",
        "    #sell_prices = reduce_mem_usage(sell_prices)\n",
        "    print('Sell prices has {} rows and {} columns'.format(sell_prices.shape[0], sell_prices.shape[1]))\n",
        "    sales_train_validation = pd.read_csv('/content/drive/Shareddrives/HW2 Shared Drive/sales_train_validation.csv')\n",
        "    print('Sales train evaluation has {} rows and {} columns'.format(sales_train_validation.shape[0], sales_train_validation.shape[1]))\n",
        "    submission = pd.read_csv('/content/drive/Shareddrives/HW2 Shared Drive/sample_submission.csv')\n",
        "    \n",
        "    return calendar, calendar1, calendar2, calendar3, sell_prices, sales_train_validation,submission\n",
        "\n",
        "calendar, calendar1, calendar2, calendar3, sell_prices, sales_train_validation, submission = read_data()\n",
        "\n",
        "# MEAN OF EACH ROW\n",
        "meanDataframe = sales_train_validation.mean(axis=1)"
      ],
      "execution_count": null,
      "outputs": []
    },
    {
      "cell_type": "code",
      "metadata": {
        "id": "AaEH6PaTRkci"
      },
      "source": [
        "# NORMALIZATION\n",
        "# for row in sales_train_validation:\n",
        "prefix = \"d_\"\n",
        "count = 1\n",
        "lstFeatures = []\n",
        "lstFeaturesSTD = []\n",
        "while (count <= 1913):\n",
        "  columnName = prefix + str(count)\n",
        "  lstFeatures.append(columnName)\n",
        "  count += 1\n",
        "# print(lstFeatures)\n",
        "sales_train_validation = sales_train_validation[lstFeatures]\n",
        "sales_train_validation = sales_train_validation.apply(lambda x: x/x.max(), axis = 1)\n",
        "sales_train_validation = sales_train_validation.fillna(0)\n",
        "print(sales_train_validation)\n",
        "\n",
        "# for i in range(len(sales_train_validation)):\n",
        "#   for j in range(6, len(sales_train_validation.columns), 1):\n",
        "#     # print(sales_train_validation.iat[i,j])\n",
        "#     # sales_train_validation.iat[i,j] = sales_train_validation.iat[i,j] - meanDataframe.iat[i]\n",
        "#     print(sales_train_validation.iat[i,j])\n",
        "#     print(meanDataframe.iat[i])\n",
        "#     print(sales_train_validation.iat[i,j] - meanDataframe.iat[i])\n",
        "    # print(sales_train_validation.iat[i,j])\n",
        "# print(sales_train_validation)\n",
        "# print(meanDataframe)\n",
        "# print(meanDataframe.mean(axis=1))\n",
        "\n",
        "# print()\n",
        "#   break"
      ],
      "execution_count": null,
      "outputs": []
    },
    {
      "cell_type": "code",
      "metadata": {
        "id": "-Aj2ONrUYBaP"
      },
      "source": [
        "# Find 20 days (D1-D1913) that have the largest variances in terms of item sales (Standard deviations), and use these as the features for further clustering\n",
        "\n",
        "prefix = \"d_\"\n",
        "count = 1\n",
        "lstFeaturesSTD = []\n",
        "while (count <= 1913):\n",
        "  columnName = prefix + str(count)\n",
        "  lstFeaturesSTD.append(sales_train_validation[columnName].std())\n",
        "  count += 1\n",
        "\n",
        "indexList = sorted(range(len(lstFeaturesSTD)), key=lambda x: lstFeaturesSTD[x])[-20:]\n",
        "nameList = [prefix + str(x + 1) for x in indexList]\n",
        "\n",
        "clusterNumberDF = sales_train_validation[nameList]\n",
        "# clusterNumberDF = clusterNumberDF.fillna(0)\n",
        "print(clusterNumberDF)\n"
      ],
      "execution_count": null,
      "outputs": []
    },
    {
      "cell_type": "code",
      "metadata": {
        "id": "u9lzgohijVeo"
      },
      "source": [
        "#Detect if there's any NA value\n",
        "clusterNumberDF.isnull().values.any()"
      ],
      "execution_count": null,
      "outputs": []
    },
    {
      "cell_type": "code",
      "metadata": {
        "id": "1gfSwZZWb2uU"
      },
      "source": [
        "# FIND OPTIMAL CLUSTER NUMBER\n",
        "from sklearn.cluster import KMeans\n",
        "from sklearn import metrics\n",
        "from scipy.spatial.distance import cdist\n",
        "import numpy as np\n",
        "import matplotlib.pyplot as plt\n",
        "\n",
        "\n",
        "distortions = []\n",
        "inertias = []\n",
        "mapping1 = {}\n",
        "mapping2 = {}\n",
        "K = range(1,20)\n",
        "X = clusterNumberDF.to_numpy()\n",
        "\n",
        "print(np.argwhere(np.isnan(X)))\n",
        "\n",
        "for k in K:\n",
        "    # Building and fitting the model\n",
        "    kmeanModel = KMeans(n_clusters=k).fit(X)\n",
        "    kmeanModel.fit(X)\n",
        " \n",
        "    distortions.append(sum(np.min(cdist(X, kmeanModel.cluster_centers_,\n",
        "                                        'euclidean'), axis=1)) / X.shape[0])\n",
        "    inertias.append(kmeanModel.inertia_)\n",
        " \n",
        "    mapping1[k] = sum(np.min(cdist(X, kmeanModel.cluster_centers_,\n",
        "                                   'euclidean'), axis=1)) / X.shape[0]\n",
        "    mapping2[k] = kmeanModel.inertia_"
      ],
      "execution_count": null,
      "outputs": []
    },
    {
      "cell_type": "code",
      "metadata": {
        "id": "qq7dgJCmjz6r"
      },
      "source": [
        "plt.plot(K, distortions, 'bx-')\n",
        "plt.xlabel('Values of K')\n",
        "plt.ylabel('Distortion')\n",
        "plt.title('The Elbow Method using Distortion')\n",
        "plt.show()"
      ],
      "execution_count": null,
      "outputs": []
    },
    {
      "cell_type": "code",
      "metadata": {
        "id": "fKoAyRgnrpol"
      },
      "source": [
        "X = clusterNumberDF.to_numpy()"
      ],
      "execution_count": null,
      "outputs": []
    },
    {
      "cell_type": "code",
      "metadata": {
        "id": "vi9rUp7Ikyya"
      },
      "source": [
        "# CLUSTER\n",
        "from sklearn.cluster import KMeans\n",
        "kmeans = KMeans(3, random_state = 42)\n",
        "kmeans.fit(X)\n",
        "identified_clusters = kmeans.fit_predict(X)"
      ],
      "execution_count": null,
      "outputs": []
    },
    {
      "cell_type": "code",
      "metadata": {
        "id": "LEdhqwK7lCYX"
      },
      "source": [
        "# DATA DIMENSION\n",
        "print(len(identified_clusters))\n",
        "print(max(identified_clusters))"
      ],
      "execution_count": null,
      "outputs": []
    },
    {
      "cell_type": "code",
      "metadata": {
        "id": "4Pl6l7RuXrtO"
      },
      "source": [
        "sales_train_validation = pd.read_csv('/content/drive/Shareddrives/HW2 Shared Drive/sales_train_validation.csv')\n",
        "print('Sales train evaluation has {} rows and {} columns'.format(sales_train_validation.shape[0], sales_train_validation.shape[1]))"
      ],
      "execution_count": null,
      "outputs": []
    },
    {
      "cell_type": "code",
      "metadata": {
        "id": "L8PV4fE9liA3"
      },
      "source": [
        "# ADD CLUSTER ID TO ORIGINAL DATA\n",
        "clusterIdList = list(identified_clusters)\n",
        "sales_train_validation['clusterid'] = clusterIdList"
      ],
      "execution_count": null,
      "outputs": []
    },
    {
      "cell_type": "code",
      "metadata": {
        "id": "wxODlyJbwwoj"
      },
      "source": [
        "# TEST CLUSTER 1\n",
        "cluster1 = sales_train_validation[(sales_train_validation.clusterid == 0)]\n",
        "del cluster1[\"clusterid\"]\n",
        "print(cluster1)"
      ],
      "execution_count": null,
      "outputs": []
    },
    {
      "cell_type": "code",
      "metadata": {
        "id": "Mj-U6J3knK65"
      },
      "source": [
        "# TEST CLUSTER 2\n",
        "cluster2 = sales_train_validation[(sales_train_validation.clusterid == 1)]\n",
        "del cluster2[\"clusterid\"]\n",
        "print(cluster2)"
      ],
      "execution_count": null,
      "outputs": []
    },
    {
      "cell_type": "code",
      "metadata": {
        "id": "i2CrtbywoK8z"
      },
      "source": [
        "# CLUSTER 3\n",
        "cluster3 = sales_train_validation[(sales_train_validation.clusterid == 2)]\n",
        "del cluster3[\"clusterid\"]\n",
        "print(cluster3)"
      ],
      "execution_count": null,
      "outputs": []
    },
    {
      "cell_type": "code",
      "metadata": {
        "id": "l4OVcXScT04U"
      },
      "source": [
        "def melt_and_merge(calendar, sell_prices, cluster, submission, merge = False):\n",
        "    \n",
        "    # melt sales data, get it ready for training\n",
        "    cluster = pd.melt(cluster, id_vars = ['id', 'item_id', 'dept_id', 'cat_id', 'store_id', 'state_id'], var_name = 'day', value_name = 'demand')\n",
        "    print('Melted sales train validation has {} rows and {} columns'.format(cluster.shape[0], cluster.shape[1]))\n",
        "    #cluster = reduce_mem_usage(cluster)\n",
        "    \n",
        "    # seperate test dataframes\n",
        "    test1_rows = [row for row in submission['id'] if 'validation' in row]\n",
        "    test2_rows = [row for row in submission['id'] if 'evaluation' in row]\n",
        "    test1 = submission[submission['id'].isin(test1_rows)]\n",
        "    test2 = submission[submission['id'].isin(test2_rows)]\n",
        "    \n",
        "    # change column names\n",
        "    test1.columns = ['id', 'd_1914', 'd_1915', 'd_1916', 'd_1917', 'd_1918', 'd_1919', 'd_1920', 'd_1921', 'd_1922', 'd_1923', 'd_1924', 'd_1925', 'd_1926', 'd_1927', 'd_1928', 'd_1929', 'd_1930', 'd_1931', \n",
        "                      'd_1932', 'd_1933', 'd_1934', 'd_1935', 'd_1936', 'd_1937', 'd_1938', 'd_1939', 'd_1940', 'd_1941']\n",
        "    test2.columns = ['id', 'd_1942', 'd_1943', 'd_1944', 'd_1945', 'd_1946', 'd_1947', 'd_1948', 'd_1949', 'd_1950', 'd_1951', 'd_1952', 'd_1953', 'd_1954', 'd_1955', 'd_1956', 'd_1957', 'd_1958', 'd_1959', \n",
        "                      'd_1960', 'd_1961', 'd_1962', 'd_1963', 'd_1964', 'd_1965', 'd_1966', 'd_1967', 'd_1968', 'd_1969']\n",
        "    \n",
        "    # get product table\n",
        "    product = cluster[['id', 'item_id', 'dept_id', 'cat_id', 'store_id', 'state_id']].drop_duplicates()\n",
        "    \n",
        "    # merge with product table\n",
        "    test2['id'] = test2['id'].str.replace('_evaluation','_validation')\n",
        "    test1 = test1.merge(product, how = 'left', on = 'id')\n",
        "    test2 = test2.merge(product, how = 'left', on = 'id')\n",
        "    test2['id'] = test2['id'].str.replace('_validation','_evaluation')\n",
        "    \n",
        "    # \n",
        "    test1 = pd.melt(test1, id_vars = ['id', 'item_id', 'dept_id', 'cat_id', 'store_id', 'state_id'], var_name = 'day', value_name = 'demand')\n",
        "    test2 = pd.melt(test2, id_vars = ['id', 'item_id', 'dept_id', 'cat_id', 'store_id', 'state_id'], var_name = 'day', value_name = 'demand')\n",
        "    \n",
        "    cluster['part'] = 'train'\n",
        "    test1['part'] = 'test1'\n",
        "    test2['part'] = 'test2'\n",
        "    \n",
        "    data = pd.concat([cluster, test1, test2], axis = 0)\n",
        "    \n",
        "    del cluster, test1, test2\n",
        "    \n",
        "    # get only a sample for fst training\n",
        "    #data = data.loc[nrows:]\n",
        "    \n",
        "    # drop some calendar features\n",
        "    calendar.drop(['weekday', 'wday', 'month', 'year'], inplace = True, axis = 1)\n",
        "    \n",
        "    # delete test2 for now\n",
        "    data = data[data['part'] != 'test2']\n",
        "    \n",
        "    if merge:\n",
        "        # notebook crash with the entire dataset (maybee use tensorflow, dask, pyspark xD)\n",
        "        data = pd.merge(data, calendar, how = 'left', left_on = ['day'], right_on = ['d'])\n",
        "        data.drop(['d', 'day'], inplace = True, axis = 1)\n",
        "        # get the sell price data (this feature should be very important)\n",
        "        data = data.merge(sell_prices, on = ['store_id', 'item_id', 'wm_yr_wk'], how = 'left')\n",
        "        print('Our final dataset to train has {} rows and {} columns'.format(data.shape[0], data.shape[1]))\n",
        "    else: \n",
        "        pass\n",
        "    \n",
        "    gc.collect()\n",
        "    \n",
        "    return data\n",
        "        \n",
        "#calendar, sell_prices, cluster, submission = read_data()\n",
        "#data = melt_and_merge(calendar, sell_prices, cluster, submission,  merge = True)"
      ],
      "execution_count": null,
      "outputs": []
    },
    {
      "cell_type": "code",
      "metadata": {
        "id": "83AFbylhlYka"
      },
      "source": [
        "#Total\n",
        "#data_total = melt_and_merge(calendar, sell_prices, sales_train_validation, submission, merge = True)\n",
        "#data_total"
      ],
      "execution_count": null,
      "outputs": []
    },
    {
      "cell_type": "code",
      "metadata": {
        "id": "jB4PZEhO81nY"
      },
      "source": [
        "#Cluster 1 data\n",
        "data1 = melt_and_merge(calendar1, sell_prices, cluster1, submission, merge = True)\n"
      ],
      "execution_count": null,
      "outputs": []
    },
    {
      "cell_type": "code",
      "metadata": {
        "id": "Dz3_eRj-p6Rt"
      },
      "source": [
        "data1"
      ],
      "execution_count": null,
      "outputs": []
    },
    {
      "cell_type": "code",
      "metadata": {
        "id": "jeB0QTsy928x"
      },
      "source": [
        "data2 = melt_and_merge(calendar2, sell_prices, cluster2, submission, merge = True)"
      ],
      "execution_count": null,
      "outputs": []
    },
    {
      "cell_type": "code",
      "metadata": {
        "id": "ch28akxW_I6C"
      },
      "source": [
        "data3 = melt_and_merge(calendar3, sell_prices, cluster3, submission, merge = True)"
      ],
      "execution_count": null,
      "outputs": []
    },
    {
      "cell_type": "code",
      "metadata": {
        "id": "isDnXrGlSQyi"
      },
      "source": [
        "#Look at each cluster's characteristics\n",
        "#Cluster 1\n",
        "data1.describe(percentiles=None, include=None, exclude=None, datetime_is_numeric=False)\n",
        "data1.astype('object').describe().transpose()"
      ],
      "execution_count": null,
      "outputs": []
    },
    {
      "cell_type": "code",
      "metadata": {
        "id": "-77JxOCsWy66"
      },
      "source": [
        "#Cluster 2\n",
        "data2.describe(percentiles=None, include=None, exclude=None, datetime_is_numeric=False)\n",
        "data2.astype('object').describe().transpose()"
      ],
      "execution_count": null,
      "outputs": []
    },
    {
      "cell_type": "code",
      "metadata": {
        "id": "IY70DsoyW76e"
      },
      "source": [
        "#Cluster 3\n",
        "data3.describe(percentiles=None, include=None, exclude=None, datetime_is_numeric=False)\n",
        "data3.astype('object').describe().transpose()"
      ],
      "execution_count": null,
      "outputs": []
    },
    {
      "cell_type": "code",
      "metadata": {
        "id": "coV7soJnNu4_"
      },
      "source": [
        "print(sales_train_validation)\n",
        "# calendar, sell_prices, sales_train_validation, submission = read_data()"
      ],
      "execution_count": null,
      "outputs": []
    },
    {
      "cell_type": "markdown",
      "metadata": {
        "id": "lnPMpvk3pWC3"
      },
      "source": [
        "* We have the data to build our first model, let's build a baseline and predict the validation data (in our case is test1)"
      ]
    },
    {
      "cell_type": "code",
      "metadata": {
        "trusted": true,
        "id": "R4hJWV-IpWC4"
      },
      "source": [
        "def transform(data):\n",
        "    nan_features = ['event_name_1', 'event_type_1', 'event_name_2', 'event_type_2']\n",
        "    for feature in nan_features:\n",
        "        data[feature].fillna('unknown', inplace = True)    \n",
        "    cat = ['item_id', 'dept_id', 'cat_id', 'store_id', 'state_id', 'event_name_1', 'event_type_1', 'event_name_2', 'event_type_2']\n",
        "    for feature in cat:\n",
        "        encoder = preprocessing.LabelEncoder()\n",
        "        data[feature] = encoder.fit_transform(data[feature])\n",
        "    return data\n",
        "\n",
        "def simple_fe(data):  \n",
        "    # rolling demand features\n",
        "    data['lag_t28'] = data.groupby(['id'])['demand'].transform(lambda x: x.shift(28))\n",
        "    data['lag_t29'] = data.groupby(['id'])['demand'].transform(lambda x: x.shift(29))\n",
        "    data['lag_t30'] = data.groupby(['id'])['demand'].transform(lambda x: x.shift(30))\n",
        "    data['rolling_mean_t7'] = data.groupby(['id'])['demand'].transform(lambda x: x.shift(28).rolling(7).mean())\n",
        "    data['rolling_std_t7'] = data.groupby(['id'])['demand'].transform(lambda x: x.shift(28).rolling(7).std())\n",
        "    data['rolling_mean_t30'] = data.groupby(['id'])['demand'].transform(lambda x: x.shift(28).rolling(30).mean())\n",
        "    data['rolling_mean_t90'] = data.groupby(['id'])['demand'].transform(lambda x: x.shift(28).rolling(90).mean())\n",
        "    data['rolling_mean_t180'] = data.groupby(['id'])['demand'].transform(lambda x: x.shift(28).rolling(180).mean())\n",
        "    data['rolling_std_t30'] = data.groupby(['id'])['demand'].transform(lambda x: x.shift(28).rolling(30).std())\n",
        "    data['rolling_skew_t30'] = data.groupby(['id'])['demand'].transform(lambda x: x.shift(28).rolling(30).skew())\n",
        "    data['rolling_kurt_t30'] = data.groupby(['id'])['demand'].transform(lambda x: x.shift(28).rolling(30).kurt())  \n",
        "    # price features\n",
        "    data['lag_price_t1'] = data.groupby(['id'])['sell_price'].transform(lambda x: x.shift(1))\n",
        "    data['price_change_t1'] = (data['lag_price_t1'] - data['sell_price']) / (data['lag_price_t1'])\n",
        "    data['rolling_price_max_t365'] = data.groupby(['id'])['sell_price'].transform(lambda x: x.shift(1).rolling(365).max())\n",
        "    data['price_change_t365'] = (data['rolling_price_max_t365'] - data['sell_price']) / (data['rolling_price_max_t365'])\n",
        "    data['rolling_price_std_t7'] = data.groupby(['id'])['sell_price'].transform(lambda x: x.rolling(7).std())\n",
        "    data['rolling_price_std_t30'] = data.groupby(['id'])['sell_price'].transform(lambda x: x.rolling(30).std())\n",
        "    data.drop(['rolling_price_max_t365', 'lag_price_t1'], inplace = True, axis = 1)\n",
        "    # time features\n",
        "    data['date'] = pd.to_datetime(data['date'])\n",
        "    data['year'] = data['date'].dt.year\n",
        "    data['month'] = data['date'].dt.month\n",
        "    data['week'] = data['date'].dt.week\n",
        "    data['day'] = data['date'].dt.day\n",
        "    data['dayofweek'] = data['date'].dt.dayofweek\n",
        "    \n",
        "    return data\n",
        "\n",
        "def run_lgb(data):\n",
        "    # going to evaluate with the last 28 days\n",
        "    x_train = data[data['date'] <= '2016-03-27']\n",
        "    y_train = x_train['demand']\n",
        "    x_val = data[(data['date'] > '2016-03-27') & (data['date'] <= '2016-04-24')]\n",
        "    y_val = x_val['demand']\n",
        "    test = data[(data['date'] > '2016-04-24')]\n",
        "    del data\n",
        "    gc.collect()\n",
        "    # hyperparameter tunning \n",
        "    # define random hyperparammeters\n",
        "    params = {\n",
        "        'boosting_type': 'gbdt',\n",
        "        'metric': 'rmse',\n",
        "        'objective': 'regression',\n",
        "        'n_jobs': -1,\n",
        "        'seed': 236,\n",
        "        'learning_rate': 0.1,\n",
        "        'bagging_fraction': 0.75,\n",
        "        'bagging_freq': 10, \n",
        "        'colsample_bytree': 0.75}\n",
        "\n",
        "    train_set = lgb.Dataset(x_train[features], y_train)\n",
        "    val_set = lgb.Dataset(x_val[features], y_val)\n",
        "    del x_train, y_train\n",
        "\n",
        "    model = lgb.train(params, train_set, num_boost_round = 2500, early_stopping_rounds = 50, valid_sets = [train_set, val_set], verbose_eval = 100)\n",
        "    val_pred = model.predict(x_val[features])\n",
        "    val_score = np.sqrt(metrics.mean_squared_error(val_pred, y_val))\n",
        "    print(f'Our val rmse score is {val_score}')\n",
        "    y_pred = model.predict(test[features])\n",
        "    test['demand'] = y_pred\n",
        "    return test\n",
        "def predict(test, submission):\n",
        "    predictions = test[['id', 'date', 'demand']]\n",
        "    predictions = pd.pivot(predictions, index = 'id', columns = 'date', values = 'demand').reset_index()\n",
        "    predictions.columns = ['id'] + ['F' + str(i + 1) for i in range(28)]\n",
        "\n",
        "    evaluation_rows = [row for row in submission['id'] if 'evaluation' in row] \n",
        "    evaluation = submission[submission['id'].isin(evaluation_rows)]\n",
        "\n",
        "    validation = submission[['id']].merge(predictions, on = 'id')\n",
        "    final = pd.concat([validation, evaluation])\n",
        "    final.to_csv('submission.csv', index = False)\n",
        "\n",
        "# define list of features\n",
        "features = ['item_id', 'dept_id', 'cat_id', 'store_id', 'state_id', 'year', 'month', 'week', 'day', 'dayofweek', 'event_name_1', 'event_type_1', 'event_name_2', 'event_type_2', \n",
        "            'snap_CA', 'snap_TX', 'snap_WI', 'sell_price', 'lag_t28', 'lag_t29', 'lag_t30', 'rolling_mean_t7', 'rolling_std_t7', 'rolling_mean_t30', 'rolling_mean_t90', \n",
        "            'rolling_mean_t180', 'rolling_std_t30', 'price_change_t1', 'price_change_t365', 'rolling_price_std_t7', 'rolling_price_std_t30', 'rolling_skew_t30', 'rolling_kurt_t30']\n"
      ],
      "execution_count": null,
      "outputs": []
    },
    {
      "cell_type": "code",
      "metadata": {
        "id": "rlkPBtu5yEm7"
      },
      "source": [
        "def transform_train_and_eval(data):\n",
        "    data = transform(data)\n",
        "    data = simple_fe(data)\n",
        "    # reduce memory for new features so we can train\n",
        "    #data = reduce_mem_usage(data)\n",
        "    test = run_lgb(data)\n",
        "    predict(test, submission)"
      ],
      "execution_count": null,
      "outputs": []
    },
    {
      "cell_type": "code",
      "metadata": {
        "id": "OEABR4kRbz4u"
      },
      "source": [
        "# print(data3)\n",
        "# print(data3.groupby(['id'])['demand'].transform(lambda x: x.shift(28)))\n",
        "# print(data3)\n",
        "# print(data3['id'] == 'HOBBIES_1_029_CA_1_validation')\n",
        "# print(data3.loc[data3['id'] == 'HOBBIES_1_029_CA_1_validation')\n",
        "# for i in data3.groupby(['id'])['demand']:\n",
        "#   print(i)"
      ],
      "execution_count": null,
      "outputs": []
    },
    {
      "cell_type": "code",
      "metadata": {
        "id": "doMVN3wM2-Ng"
      },
      "source": [
        "#The actual data transform and simplification, along with predicting stage.\n",
        "#I start with cludter 3 cuz it's the smallest cluster along all three and thereby has the shortest runtime\n",
        "data3 = transform(data3)\n",
        "data3 = simple_fe(data3)\n",
        "print(data3)"
      ],
      "execution_count": null,
      "outputs": []
    },
    {
      "cell_type": "code",
      "metadata": {
        "id": "YtQdqnA8kvcV"
      },
      "source": [
        "test = run_lgb(data3)\n",
        "predict(test, submission)\n",
        "cluster3_csv = test.to_csv('submission_cluster3.csv')"
      ],
      "execution_count": null,
      "outputs": []
    },
    {
      "cell_type": "code",
      "metadata": {
        "id": "m74l0VZaeMq_"
      },
      "source": [
        "#After confirming cluster 3 worked, moving onto cluster 1 and 2"
      ],
      "execution_count": null,
      "outputs": []
    },
    {
      "cell_type": "code",
      "metadata": {
        "id": "6pn4xd_Jf0mt"
      },
      "source": [
        "cluster1_predict = transform_train_and_eval(data1)\n",
        "cluster1_csv = test.to_csv('submission_cluster1.csv')"
      ],
      "execution_count": null,
      "outputs": []
    },
    {
      "cell_type": "code",
      "metadata": {
        "id": "uno72LDsflB5"
      },
      "source": [
        "cluster2_predict = transform_train_and_eval(data2)\n",
        "cluster2_csv = test.to_csv('submission_cluster2.csv')"
      ],
      "execution_count": null,
      "outputs": []
    }
  ]
}